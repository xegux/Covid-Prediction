{
 "cells": [
  {
   "cell_type": "code",
   "execution_count": 1,
   "id": "9660c74a",
   "metadata": {
    "execution": {
     "iopub.execute_input": "2021-12-08T17:04:53.587365Z",
     "iopub.status.busy": "2021-12-08T17:04:53.586570Z",
     "iopub.status.idle": "2021-12-08T17:04:54.641394Z",
     "shell.execute_reply": "2021-12-08T17:04:54.640655Z",
     "shell.execute_reply.started": "2021-12-08T16:21:25.255994Z"
    },
    "papermill": {
     "duration": 1.089186,
     "end_time": "2021-12-08T17:04:54.641556",
     "exception": false,
     "start_time": "2021-12-08T17:04:53.552370",
     "status": "completed"
    },
    "tags": []
   },
   "outputs": [],
   "source": [
    "import pandas as pd\n",
    "import numpy as np\n",
    "from sklearn import preprocessing\n",
    "from sklearn.metrics import mean_squared_error\n",
    "import matplotlib.pyplot as plt\n",
    "from sklearn.datasets import make_regression\n",
    "from sklearn.model_selection import cross_val_score\n",
    "from sklearn.model_selection import RepeatedKFold\n",
    "from sklearn.model_selection import RepeatedStratifiedKFold\n",
    "from xgboost import XGBRegressor"
   ]
  },
  {
   "cell_type": "code",
   "execution_count": 2,
   "id": "58ea7365",
   "metadata": {
    "execution": {
     "iopub.execute_input": "2021-12-08T17:04:54.686014Z",
     "iopub.status.busy": "2021-12-08T17:04:54.685375Z",
     "iopub.status.idle": "2021-12-08T17:04:54.698542Z",
     "shell.execute_reply": "2021-12-08T17:04:54.698037Z",
     "shell.execute_reply.started": "2021-12-08T16:21:25.265778Z"
    },
    "papermill": {
     "duration": 0.037251,
     "end_time": "2021-12-08T17:04:54.698680",
     "exception": false,
     "start_time": "2021-12-08T17:04:54.661429",
     "status": "completed"
    },
    "tags": []
   },
   "outputs": [],
   "source": [
    "import pickle\n",
    "file = open('../input/cs-4780-covid-case-hunters/covid_dataset.pkl', 'rb')\n",
    "checkpoint = pickle.load(file); file.close(); X_train, y_train, X_val, y_val, X_test = checkpoint[\"X_train\"], checkpoint[\"y_train_log_pos_cases\"], checkpoint[\"X_val\"], checkpoint[\"y_val_log_pos_cases\"], checkpoint[\"X_test\"]"
   ]
  },
  {
   "cell_type": "code",
   "execution_count": 3,
   "id": "2487622d",
   "metadata": {
    "execution": {
     "iopub.execute_input": "2021-12-08T17:04:54.746759Z",
     "iopub.status.busy": "2021-12-08T17:04:54.745962Z",
     "iopub.status.idle": "2021-12-08T17:04:54.756625Z",
     "shell.execute_reply": "2021-12-08T17:04:54.755991Z",
     "shell.execute_reply.started": "2021-12-08T16:21:25.285376Z"
    },
    "papermill": {
     "duration": 0.038316,
     "end_time": "2021-12-08T17:04:54.756760",
     "exception": false,
     "start_time": "2021-12-08T17:04:54.718444",
     "status": "completed"
    },
    "tags": []
   },
   "outputs": [],
   "source": [
    "col_list = ['Region','Population', 'Area', 'Pop. Density', 'Coastline',\n",
    "       'Net migration', 'Infant mortality', 'GDP', 'Literacy', 'Phones',\n",
    "       'Arable', 'Crops', 'Other', 'Birthrate', 'Deathrate',\n",
    "       'Agriculture', 'Industry', 'Service', 'Handwashing Facilities',\n",
    "       'Extreme Poverty', 'Median Age', 'Life expectancy',\n",
    "       'Human development index']\n",
    "df = pd.DataFrame(X_train, columns=col_list)\n",
    "df_val = pd.DataFrame(X_val, columns=col_list)\n",
    "df_test = pd.DataFrame(X_test, columns=col_list)\n",
    "df_full = pd.concat([df_val, df])\n",
    "y_full = np.concatenate((y_val, y_train))"
   ]
  },
  {
   "cell_type": "code",
   "execution_count": 4,
   "id": "ba69cf2b",
   "metadata": {
    "execution": {
     "iopub.execute_input": "2021-12-08T17:04:54.798469Z",
     "iopub.status.busy": "2021-12-08T17:04:54.797838Z",
     "iopub.status.idle": "2021-12-08T17:04:54.826540Z",
     "shell.execute_reply": "2021-12-08T17:04:54.827038Z",
     "shell.execute_reply.started": "2021-12-08T16:21:25.297681Z"
    },
    "papermill": {
     "duration": 0.051154,
     "end_time": "2021-12-08T17:04:54.827205",
     "exception": false,
     "start_time": "2021-12-08T17:04:54.776051",
     "status": "completed"
    },
    "tags": []
   },
   "outputs": [
    {
     "data": {
      "text/html": [
       "<div>\n",
       "<style scoped>\n",
       "    .dataframe tbody tr th:only-of-type {\n",
       "        vertical-align: middle;\n",
       "    }\n",
       "\n",
       "    .dataframe tbody tr th {\n",
       "        vertical-align: top;\n",
       "    }\n",
       "\n",
       "    .dataframe thead th {\n",
       "        text-align: right;\n",
       "    }\n",
       "</style>\n",
       "<table border=\"1\" class=\"dataframe\">\n",
       "  <thead>\n",
       "    <tr style=\"text-align: right;\">\n",
       "      <th></th>\n",
       "      <th>Region</th>\n",
       "      <th>Population</th>\n",
       "      <th>Area</th>\n",
       "      <th>Pop. Density</th>\n",
       "      <th>Coastline</th>\n",
       "      <th>Net migration</th>\n",
       "      <th>Infant mortality</th>\n",
       "      <th>GDP</th>\n",
       "      <th>Literacy</th>\n",
       "      <th>Phones</th>\n",
       "      <th>...</th>\n",
       "      <th>Birthrate</th>\n",
       "      <th>Deathrate</th>\n",
       "      <th>Agriculture</th>\n",
       "      <th>Industry</th>\n",
       "      <th>Service</th>\n",
       "      <th>Handwashing Facilities</th>\n",
       "      <th>Extreme Poverty</th>\n",
       "      <th>Median Age</th>\n",
       "      <th>Life expectancy</th>\n",
       "      <th>Human development index</th>\n",
       "    </tr>\n",
       "  </thead>\n",
       "  <tbody>\n",
       "    <tr>\n",
       "      <th>0</th>\n",
       "      <td>7.0</td>\n",
       "      <td>8863338.0</td>\n",
       "      <td>637657.0</td>\n",
       "      <td>13.9</td>\n",
       "      <td>0.47</td>\n",
       "      <td>5.37</td>\n",
       "      <td>116.7</td>\n",
       "      <td>500.0</td>\n",
       "      <td>37.8</td>\n",
       "      <td>11.3</td>\n",
       "      <td>...</td>\n",
       "      <td>45.13</td>\n",
       "      <td>16.63</td>\n",
       "      <td>0.65</td>\n",
       "      <td>0.1</td>\n",
       "      <td>0.25</td>\n",
       "      <td>9.831</td>\n",
       "      <td>None</td>\n",
       "      <td>16.799999</td>\n",
       "      <td>57.400002</td>\n",
       "      <td>None</td>\n",
       "    </tr>\n",
       "    <tr>\n",
       "      <th>1</th>\n",
       "      <td>4.0</td>\n",
       "      <td>4494749.0</td>\n",
       "      <td>56542.0</td>\n",
       "      <td>79.5</td>\n",
       "      <td>10.32</td>\n",
       "      <td>1.58</td>\n",
       "      <td>6.84</td>\n",
       "      <td>10600.0</td>\n",
       "      <td>98.5</td>\n",
       "      <td>420.4</td>\n",
       "      <td>...</td>\n",
       "      <td>9.61</td>\n",
       "      <td>11.48</td>\n",
       "      <td>0.07</td>\n",
       "      <td>0.308</td>\n",
       "      <td>0.622</td>\n",
       "      <td>None</td>\n",
       "      <td>0.7</td>\n",
       "      <td>44.0</td>\n",
       "      <td>78.489998</td>\n",
       "      <td>0.851</td>\n",
       "    </tr>\n",
       "    <tr>\n",
       "      <th>2</th>\n",
       "      <td>8.0</td>\n",
       "      <td>8308504.0</td>\n",
       "      <td>27750.0</td>\n",
       "      <td>299.4</td>\n",
       "      <td>6.38</td>\n",
       "      <td>-3.4</td>\n",
       "      <td>73.45</td>\n",
       "      <td>1600.0</td>\n",
       "      <td>52.9</td>\n",
       "      <td>16.9</td>\n",
       "      <td>...</td>\n",
       "      <td>36.44</td>\n",
       "      <td>12.17</td>\n",
       "      <td>0.28</td>\n",
       "      <td>0.2</td>\n",
       "      <td>0.52</td>\n",
       "      <td>22.863001</td>\n",
       "      <td>23.5</td>\n",
       "      <td>24.299999</td>\n",
       "      <td>64.0</td>\n",
       "      <td>0.51</td>\n",
       "    </tr>\n",
       "    <tr>\n",
       "      <th>3</th>\n",
       "      <td>8.0</td>\n",
       "      <td>13547510.0</td>\n",
       "      <td>283560.0</td>\n",
       "      <td>47.8</td>\n",
       "      <td>0.79</td>\n",
       "      <td>-8.58</td>\n",
       "      <td>23.66</td>\n",
       "      <td>3300.0</td>\n",
       "      <td>92.5</td>\n",
       "      <td>125.6</td>\n",
       "      <td>...</td>\n",
       "      <td>22.29</td>\n",
       "      <td>4.23</td>\n",
       "      <td>0.07</td>\n",
       "      <td>0.312</td>\n",
       "      <td>0.618</td>\n",
       "      <td>80.635</td>\n",
       "      <td>3.6</td>\n",
       "      <td>28.1</td>\n",
       "      <td>77.01</td>\n",
       "      <td>0.759</td>\n",
       "    </tr>\n",
       "    <tr>\n",
       "      <th>4</th>\n",
       "      <td>8.0</td>\n",
       "      <td>9183984.0</td>\n",
       "      <td>48730.0</td>\n",
       "      <td>188.5</td>\n",
       "      <td>2.64</td>\n",
       "      <td>-3.22</td>\n",
       "      <td>32.38</td>\n",
       "      <td>6000.0</td>\n",
       "      <td>84.7</td>\n",
       "      <td>97.4</td>\n",
       "      <td>...</td>\n",
       "      <td>23.22</td>\n",
       "      <td>5.73</td>\n",
       "      <td>0.112</td>\n",
       "      <td>0.306</td>\n",
       "      <td>0.582</td>\n",
       "      <td>55.181999</td>\n",
       "      <td>1.6</td>\n",
       "      <td>27.6</td>\n",
       "      <td>74.080002</td>\n",
       "      <td>0.756</td>\n",
       "    </tr>\n",
       "  </tbody>\n",
       "</table>\n",
       "<p>5 rows × 23 columns</p>\n",
       "</div>"
      ],
      "text/plain": [
       "  Region  Population      Area Pop. Density Coastline Net migration  \\\n",
       "0    7.0   8863338.0  637657.0         13.9      0.47          5.37   \n",
       "1    4.0   4494749.0   56542.0         79.5     10.32          1.58   \n",
       "2    8.0   8308504.0   27750.0        299.4      6.38          -3.4   \n",
       "3    8.0  13547510.0  283560.0         47.8      0.79         -8.58   \n",
       "4    8.0   9183984.0   48730.0        188.5      2.64         -3.22   \n",
       "\n",
       "  Infant mortality      GDP Literacy Phones  ... Birthrate Deathrate  \\\n",
       "0            116.7    500.0     37.8   11.3  ...     45.13     16.63   \n",
       "1             6.84  10600.0     98.5  420.4  ...      9.61     11.48   \n",
       "2            73.45   1600.0     52.9   16.9  ...     36.44     12.17   \n",
       "3            23.66   3300.0     92.5  125.6  ...     22.29      4.23   \n",
       "4            32.38   6000.0     84.7   97.4  ...     23.22      5.73   \n",
       "\n",
       "  Agriculture Industry Service Handwashing Facilities Extreme Poverty  \\\n",
       "0        0.65      0.1    0.25                  9.831            None   \n",
       "1        0.07    0.308   0.622                   None             0.7   \n",
       "2        0.28      0.2    0.52              22.863001            23.5   \n",
       "3        0.07    0.312   0.618                 80.635             3.6   \n",
       "4       0.112    0.306   0.582              55.181999             1.6   \n",
       "\n",
       "  Median Age Life expectancy Human development index  \n",
       "0  16.799999       57.400002                    None  \n",
       "1       44.0       78.489998                   0.851  \n",
       "2  24.299999            64.0                    0.51  \n",
       "3       28.1           77.01                   0.759  \n",
       "4       27.6       74.080002                   0.756  \n",
       "\n",
       "[5 rows x 23 columns]"
      ]
     },
     "execution_count": 4,
     "metadata": {},
     "output_type": "execute_result"
    }
   ],
   "source": [
    "df_full.head()"
   ]
  },
  {
   "cell_type": "code",
   "execution_count": 5,
   "id": "551e710f",
   "metadata": {
    "execution": {
     "iopub.execute_input": "2021-12-08T17:04:54.870256Z",
     "iopub.status.busy": "2021-12-08T17:04:54.869636Z",
     "iopub.status.idle": "2021-12-08T17:04:54.891347Z",
     "shell.execute_reply": "2021-12-08T17:04:54.890722Z",
     "shell.execute_reply.started": "2021-12-08T16:21:25.325792Z"
    },
    "papermill": {
     "duration": 0.044055,
     "end_time": "2021-12-08T17:04:54.891494",
     "exception": false,
     "start_time": "2021-12-08T17:04:54.847439",
     "status": "completed"
    },
    "tags": []
   },
   "outputs": [
    {
     "data": {
      "text/html": [
       "<div>\n",
       "<style scoped>\n",
       "    .dataframe tbody tr th:only-of-type {\n",
       "        vertical-align: middle;\n",
       "    }\n",
       "\n",
       "    .dataframe tbody tr th {\n",
       "        vertical-align: top;\n",
       "    }\n",
       "\n",
       "    .dataframe thead th {\n",
       "        text-align: right;\n",
       "    }\n",
       "</style>\n",
       "<table border=\"1\" class=\"dataframe\">\n",
       "  <thead>\n",
       "    <tr style=\"text-align: right;\">\n",
       "      <th></th>\n",
       "      <th>Region</th>\n",
       "      <th>Population</th>\n",
       "      <th>Area</th>\n",
       "      <th>Pop. Density</th>\n",
       "      <th>Coastline</th>\n",
       "      <th>Net migration</th>\n",
       "      <th>Infant mortality</th>\n",
       "      <th>GDP</th>\n",
       "      <th>Literacy</th>\n",
       "      <th>Phones</th>\n",
       "      <th>...</th>\n",
       "      <th>Birthrate</th>\n",
       "      <th>Deathrate</th>\n",
       "      <th>Agriculture</th>\n",
       "      <th>Industry</th>\n",
       "      <th>Service</th>\n",
       "      <th>Handwashing Facilities</th>\n",
       "      <th>Extreme Poverty</th>\n",
       "      <th>Median Age</th>\n",
       "      <th>Life expectancy</th>\n",
       "      <th>Human development index</th>\n",
       "    </tr>\n",
       "  </thead>\n",
       "  <tbody>\n",
       "    <tr>\n",
       "      <th>0</th>\n",
       "      <td>0.0</td>\n",
       "      <td>3874050.0</td>\n",
       "      <td>10400.0</td>\n",
       "      <td>372.5</td>\n",
       "      <td>2.16</td>\n",
       "      <td>0.0</td>\n",
       "      <td>24.52</td>\n",
       "      <td>4800.0</td>\n",
       "      <td>87.4</td>\n",
       "      <td>255.6</td>\n",
       "      <td>...</td>\n",
       "      <td>18.52</td>\n",
       "      <td>6.21</td>\n",
       "      <td>0.12</td>\n",
       "      <td>0.21</td>\n",
       "      <td>0.67</td>\n",
       "      <td>None</td>\n",
       "      <td>None</td>\n",
       "      <td>31.1</td>\n",
       "      <td>78.93</td>\n",
       "      <td>0.744</td>\n",
       "    </tr>\n",
       "    <tr>\n",
       "      <th>1</th>\n",
       "      <td>7.0</td>\n",
       "      <td>41236376.0</td>\n",
       "      <td>2505810.0</td>\n",
       "      <td>16.5</td>\n",
       "      <td>0.03</td>\n",
       "      <td>-0.02</td>\n",
       "      <td>62.5</td>\n",
       "      <td>1900.0</td>\n",
       "      <td>61.1</td>\n",
       "      <td>16.3</td>\n",
       "      <td>...</td>\n",
       "      <td>34.53</td>\n",
       "      <td>8.97</td>\n",
       "      <td>0.387</td>\n",
       "      <td>0.203</td>\n",
       "      <td>0.41</td>\n",
       "      <td>23.437</td>\n",
       "      <td>None</td>\n",
       "      <td>19.700001</td>\n",
       "      <td>65.309998</td>\n",
       "      <td>0.51</td>\n",
       "    </tr>\n",
       "    <tr>\n",
       "      <th>2</th>\n",
       "      <td>7.0</td>\n",
       "      <td>486530.0</td>\n",
       "      <td>23000.0</td>\n",
       "      <td>21.2</td>\n",
       "      <td>1.37</td>\n",
       "      <td>0.0</td>\n",
       "      <td>104.13</td>\n",
       "      <td>1300.0</td>\n",
       "      <td>67.9</td>\n",
       "      <td>22.8</td>\n",
       "      <td>...</td>\n",
       "      <td>39.53</td>\n",
       "      <td>19.31</td>\n",
       "      <td>0.179</td>\n",
       "      <td>0.225</td>\n",
       "      <td>0.596</td>\n",
       "      <td>None</td>\n",
       "      <td>22.5</td>\n",
       "      <td>25.4</td>\n",
       "      <td>67.110001</td>\n",
       "      <td>0.524</td>\n",
       "    </tr>\n",
       "    <tr>\n",
       "      <th>3</th>\n",
       "      <td>8.0</td>\n",
       "      <td>303770.0</td>\n",
       "      <td>13940.0</td>\n",
       "      <td>21.8</td>\n",
       "      <td>25.41</td>\n",
       "      <td>-2.2</td>\n",
       "      <td>25.21</td>\n",
       "      <td>16700.0</td>\n",
       "      <td>95.6</td>\n",
       "      <td>460.6</td>\n",
       "      <td>...</td>\n",
       "      <td>17.57</td>\n",
       "      <td>9.05</td>\n",
       "      <td>0.03</td>\n",
       "      <td>0.07</td>\n",
       "      <td>0.9</td>\n",
       "      <td>None</td>\n",
       "      <td>None</td>\n",
       "      <td>34.299999</td>\n",
       "      <td>73.919998</td>\n",
       "      <td>0.814</td>\n",
       "    </tr>\n",
       "    <tr>\n",
       "      <th>4</th>\n",
       "      <td>7.0</td>\n",
       "      <td>12525094.0</td>\n",
       "      <td>1267000.0</td>\n",
       "      <td>9.9</td>\n",
       "      <td>0.0</td>\n",
       "      <td>-0.67</td>\n",
       "      <td>121.69</td>\n",
       "      <td>800.0</td>\n",
       "      <td>17.6</td>\n",
       "      <td>1.9</td>\n",
       "      <td>...</td>\n",
       "      <td>50.73</td>\n",
       "      <td>20.91</td>\n",
       "      <td>0.39</td>\n",
       "      <td>0.17</td>\n",
       "      <td>0.44</td>\n",
       "      <td>8.978</td>\n",
       "      <td>44.5</td>\n",
       "      <td>15.1</td>\n",
       "      <td>62.419998</td>\n",
       "      <td>0.394</td>\n",
       "    </tr>\n",
       "  </tbody>\n",
       "</table>\n",
       "<p>5 rows × 23 columns</p>\n",
       "</div>"
      ],
      "text/plain": [
       "  Region  Population       Area Pop. Density Coastline Net migration  \\\n",
       "0    0.0   3874050.0    10400.0        372.5      2.16           0.0   \n",
       "1    7.0  41236376.0  2505810.0         16.5      0.03         -0.02   \n",
       "2    7.0    486530.0    23000.0         21.2      1.37           0.0   \n",
       "3    8.0    303770.0    13940.0         21.8     25.41          -2.2   \n",
       "4    7.0  12525094.0  1267000.0          9.9       0.0         -0.67   \n",
       "\n",
       "  Infant mortality      GDP Literacy Phones  ... Birthrate Deathrate  \\\n",
       "0            24.52   4800.0     87.4  255.6  ...     18.52      6.21   \n",
       "1             62.5   1900.0     61.1   16.3  ...     34.53      8.97   \n",
       "2           104.13   1300.0     67.9   22.8  ...     39.53     19.31   \n",
       "3            25.21  16700.0     95.6  460.6  ...     17.57      9.05   \n",
       "4           121.69    800.0     17.6    1.9  ...     50.73     20.91   \n",
       "\n",
       "  Agriculture Industry Service Handwashing Facilities Extreme Poverty  \\\n",
       "0        0.12     0.21    0.67                   None            None   \n",
       "1       0.387    0.203    0.41                 23.437            None   \n",
       "2       0.179    0.225   0.596                   None            22.5   \n",
       "3        0.03     0.07     0.9                   None            None   \n",
       "4        0.39     0.17    0.44                  8.978            44.5   \n",
       "\n",
       "  Median Age Life expectancy Human development index  \n",
       "0       31.1           78.93                   0.744  \n",
       "1  19.700001       65.309998                    0.51  \n",
       "2       25.4       67.110001                   0.524  \n",
       "3  34.299999       73.919998                   0.814  \n",
       "4       15.1       62.419998                   0.394  \n",
       "\n",
       "[5 rows x 23 columns]"
      ]
     },
     "execution_count": 5,
     "metadata": {},
     "output_type": "execute_result"
    }
   ],
   "source": [
    "df_test.head()"
   ]
  },
  {
   "cell_type": "code",
   "execution_count": 6,
   "id": "d4fa839a",
   "metadata": {
    "execution": {
     "iopub.execute_input": "2021-12-08T17:04:54.941339Z",
     "iopub.status.busy": "2021-12-08T17:04:54.940711Z",
     "iopub.status.idle": "2021-12-08T17:04:54.960463Z",
     "shell.execute_reply": "2021-12-08T17:04:54.961073Z",
     "shell.execute_reply.started": "2021-12-08T16:21:25.356153Z"
    },
    "papermill": {
     "duration": 0.049037,
     "end_time": "2021-12-08T17:04:54.961242",
     "exception": false,
     "start_time": "2021-12-08T17:04:54.912205",
     "status": "completed"
    },
    "tags": []
   },
   "outputs": [
    {
     "data": {
      "text/html": [
       "<div>\n",
       "<style scoped>\n",
       "    .dataframe tbody tr th:only-of-type {\n",
       "        vertical-align: middle;\n",
       "    }\n",
       "\n",
       "    .dataframe tbody tr th {\n",
       "        vertical-align: top;\n",
       "    }\n",
       "\n",
       "    .dataframe thead th {\n",
       "        text-align: right;\n",
       "    }\n",
       "</style>\n",
       "<table border=\"1\" class=\"dataframe\">\n",
       "  <thead>\n",
       "    <tr style=\"text-align: right;\">\n",
       "      <th></th>\n",
       "      <th>Oceania</th>\n",
       "      <th>Northern Africa</th>\n",
       "      <th>Baltics</th>\n",
       "      <th>Northern America</th>\n",
       "      <th>Asia</th>\n",
       "      <th>Sub-Saharan Africa</th>\n",
       "      <th>C.W. of Ind. States</th>\n",
       "      <th>Latin Amer. &amp; Carrib</th>\n",
       "      <th>Western Europe</th>\n",
       "      <th>Eastern Europe</th>\n",
       "      <th>Near East</th>\n",
       "    </tr>\n",
       "  </thead>\n",
       "  <tbody>\n",
       "    <tr>\n",
       "      <th>0</th>\n",
       "      <td>0</td>\n",
       "      <td>0</td>\n",
       "      <td>0</td>\n",
       "      <td>0</td>\n",
       "      <td>0</td>\n",
       "      <td>0</td>\n",
       "      <td>0</td>\n",
       "      <td>1</td>\n",
       "      <td>0</td>\n",
       "      <td>0</td>\n",
       "      <td>0</td>\n",
       "    </tr>\n",
       "    <tr>\n",
       "      <th>1</th>\n",
       "      <td>0</td>\n",
       "      <td>0</td>\n",
       "      <td>0</td>\n",
       "      <td>0</td>\n",
       "      <td>1</td>\n",
       "      <td>0</td>\n",
       "      <td>0</td>\n",
       "      <td>0</td>\n",
       "      <td>0</td>\n",
       "      <td>0</td>\n",
       "      <td>0</td>\n",
       "    </tr>\n",
       "    <tr>\n",
       "      <th>2</th>\n",
       "      <td>0</td>\n",
       "      <td>0</td>\n",
       "      <td>0</td>\n",
       "      <td>0</td>\n",
       "      <td>0</td>\n",
       "      <td>0</td>\n",
       "      <td>0</td>\n",
       "      <td>0</td>\n",
       "      <td>1</td>\n",
       "      <td>0</td>\n",
       "      <td>0</td>\n",
       "    </tr>\n",
       "    <tr>\n",
       "      <th>3</th>\n",
       "      <td>0</td>\n",
       "      <td>0</td>\n",
       "      <td>0</td>\n",
       "      <td>0</td>\n",
       "      <td>0</td>\n",
       "      <td>0</td>\n",
       "      <td>0</td>\n",
       "      <td>0</td>\n",
       "      <td>1</td>\n",
       "      <td>0</td>\n",
       "      <td>0</td>\n",
       "    </tr>\n",
       "    <tr>\n",
       "      <th>4</th>\n",
       "      <td>0</td>\n",
       "      <td>0</td>\n",
       "      <td>0</td>\n",
       "      <td>0</td>\n",
       "      <td>0</td>\n",
       "      <td>0</td>\n",
       "      <td>0</td>\n",
       "      <td>0</td>\n",
       "      <td>1</td>\n",
       "      <td>0</td>\n",
       "      <td>0</td>\n",
       "    </tr>\n",
       "  </tbody>\n",
       "</table>\n",
       "</div>"
      ],
      "text/plain": [
       "   Oceania  Northern Africa  Baltics  Northern America  Asia  \\\n",
       "0        0                0        0                 0     0   \n",
       "1        0                0        0                 0     1   \n",
       "2        0                0        0                 0     0   \n",
       "3        0                0        0                 0     0   \n",
       "4        0                0        0                 0     0   \n",
       "\n",
       "   Sub-Saharan Africa  C.W. of Ind. States  Latin Amer. & Carrib  \\\n",
       "0                   0                    0                     1   \n",
       "1                   0                    0                     0   \n",
       "2                   0                    0                     0   \n",
       "3                   0                    0                     0   \n",
       "4                   0                    0                     0   \n",
       "\n",
       "   Western Europe  Eastern Europe  Near East  \n",
       "0               0               0          0  \n",
       "1               0               0          0  \n",
       "2               1               0          0  \n",
       "3               1               0          0  \n",
       "4               1               0          0  "
      ]
     },
     "execution_count": 6,
     "metadata": {},
     "output_type": "execute_result"
    }
   ],
   "source": [
    "region_encoded = pd.Series(df_full[df_full.columns[0]])\n",
    "r = pd.get_dummies(region_encoded)\n",
    "r.columns = ['Oceania', 'Northern Africa', 'Baltics', 'Northern America', 'Asia', 'Sub-Saharan Africa',\n",
    "            'C.W. of Ind. States', 'Latin Amer. & Carrib', 'Western Europe', 'Eastern Europe', 'Near East']\n",
    "r.head()"
   ]
  },
  {
   "cell_type": "code",
   "execution_count": 7,
   "id": "18398e05",
   "metadata": {
    "execution": {
     "iopub.execute_input": "2021-12-08T17:04:55.008163Z",
     "iopub.status.busy": "2021-12-08T17:04:55.007245Z",
     "iopub.status.idle": "2021-12-08T17:04:55.011507Z",
     "shell.execute_reply": "2021-12-08T17:04:55.011990Z",
     "shell.execute_reply.started": "2021-12-08T16:21:25.380385Z"
    },
    "papermill": {
     "duration": 0.028934,
     "end_time": "2021-12-08T17:04:55.012147",
     "exception": false,
     "start_time": "2021-12-08T17:04:54.983213",
     "status": "completed"
    },
    "tags": []
   },
   "outputs": [],
   "source": [
    "df_full = pd.concat([df_full, r], axis=1)"
   ]
  },
  {
   "cell_type": "code",
   "execution_count": 8,
   "id": "edb80057",
   "metadata": {
    "execution": {
     "iopub.execute_input": "2021-12-08T17:04:55.060622Z",
     "iopub.status.busy": "2021-12-08T17:04:55.059812Z",
     "iopub.status.idle": "2021-12-08T17:04:55.062793Z",
     "shell.execute_reply": "2021-12-08T17:04:55.063292Z",
     "shell.execute_reply.started": "2021-12-08T16:21:25.387564Z"
    },
    "papermill": {
     "duration": 0.029708,
     "end_time": "2021-12-08T17:04:55.063448",
     "exception": false,
     "start_time": "2021-12-08T17:04:55.033740",
     "status": "completed"
    },
    "tags": []
   },
   "outputs": [
    {
     "data": {
      "text/plain": [
       "122"
      ]
     },
     "execution_count": 8,
     "metadata": {},
     "output_type": "execute_result"
    }
   ],
   "source": [
    "len(df_full.index)"
   ]
  },
  {
   "cell_type": "code",
   "execution_count": 9,
   "id": "982a4ae8",
   "metadata": {
    "execution": {
     "iopub.execute_input": "2021-12-08T17:04:55.109649Z",
     "iopub.status.busy": "2021-12-08T17:04:55.108689Z",
     "iopub.status.idle": "2021-12-08T17:04:55.119958Z",
     "shell.execute_reply": "2021-12-08T17:04:55.119422Z",
     "shell.execute_reply.started": "2021-12-08T16:21:25.400592Z"
    },
    "papermill": {
     "duration": 0.035413,
     "end_time": "2021-12-08T17:04:55.120093",
     "exception": false,
     "start_time": "2021-12-08T17:04:55.084680",
     "status": "completed"
    },
    "tags": []
   },
   "outputs": [],
   "source": [
    "selected_features = ['Population', 'Area', 'Pop. Density', 'Coastline',\n",
    "       'Net migration', 'Infant mortality', 'GDP', 'Literacy', 'Phones',\n",
    "       'Arable', 'Crops', 'Other', 'Birthrate', 'Deathrate',\n",
    "       'Agriculture', 'Industry', 'Service', 'Handwashing Facilities',\n",
    "       'Extreme Poverty', 'Median Age', 'Life expectancy',\n",
    "       'Human development index', 'Oceania', 'Northern Africa', 'Baltics', \n",
    "        'Northern America', 'Asia', 'Sub-Saharan Africa', 'C.W. of Ind. States', \n",
    "        'Latin Amer. & Carrib', 'Western Europe', 'Eastern Europe', 'Near East']\n",
    "region_encoded_test = pd.Series(df_test[df_test.columns[0]])\n",
    "r_test = pd.get_dummies(region_encoded_test)\n",
    "r_test.columns = ['Oceania', 'Northern Africa', 'Baltics', 'Northern America', 'Asia', \n",
    "    'C.W. of Ind. States', 'Latin Amer. & Carrib', 'Western Europe', 'Eastern Europe']\n",
    "r_test.head()\n",
    "\n",
    "df_test = pd.concat([df_test, r_test], axis=1)\n",
    "df_test['Near East'] = 0\n",
    "df_test['Sub-Saharan Africa'] = 0\n",
    "\n",
    "# df_test = df.reindex(columns=selected_features)\n"
   ]
  },
  {
   "cell_type": "code",
   "execution_count": 10,
   "id": "c44ee50b",
   "metadata": {
    "execution": {
     "iopub.execute_input": "2021-12-08T17:04:55.171254Z",
     "iopub.status.busy": "2021-12-08T17:04:55.170458Z",
     "iopub.status.idle": "2021-12-08T17:04:55.173310Z",
     "shell.execute_reply": "2021-12-08T17:04:55.172769Z",
     "shell.execute_reply.started": "2021-12-08T16:21:25.414649Z"
    },
    "papermill": {
     "duration": 0.031954,
     "end_time": "2021-12-08T17:04:55.173445",
     "exception": false,
     "start_time": "2021-12-08T17:04:55.141491",
     "status": "completed"
    },
    "tags": []
   },
   "outputs": [],
   "source": [
    "def sel_features(X_train, features):\n",
    "    feat_list = df.columns.values\n",
    "    X_train_np = X_train[features].to_numpy()    \n",
    "    return X_train_np\n",
    "\n",
    "def process_features(X):\n",
    "    X = np.asarray(X).astype('float32')\n",
    "    # Replace nan values with mean\n",
    "    col_mean = np.nanmean(X, axis=0)\n",
    "    inds = np.where(np.isnan(X))\n",
    "    X[inds] = np.take(col_mean, inds[1])\n",
    "    return X\n",
    "\n",
    "def evaluate(model, y_val):\n",
    "    y_pred = model.predict(X_val)\n",
    "    mse = mean_squared_error(y_val, y_pred)\n",
    "    print (\"Validation loss is \", mse)"
   ]
  },
  {
   "cell_type": "code",
   "execution_count": 11,
   "id": "6aa316c5",
   "metadata": {
    "execution": {
     "iopub.execute_input": "2021-12-08T17:04:55.226521Z",
     "iopub.status.busy": "2021-12-08T17:04:55.224136Z",
     "iopub.status.idle": "2021-12-08T17:04:55.232353Z",
     "shell.execute_reply": "2021-12-08T17:04:55.232981Z",
     "shell.execute_reply.started": "2021-12-08T16:21:25.426034Z"
    },
    "papermill": {
     "duration": 0.038079,
     "end_time": "2021-12-08T17:04:55.233157",
     "exception": false,
     "start_time": "2021-12-08T17:04:55.195078",
     "status": "completed"
    },
    "tags": []
   },
   "outputs": [],
   "source": [
    "selected_features = ['Population', 'Area', 'Pop. Density', 'Coastline',\n",
    "       'Net migration', 'Infant mortality', 'GDP', 'Literacy', 'Phones',\n",
    "       'Arable', 'Crops', 'Other', 'Birthrate', 'Deathrate',\n",
    "       'Agriculture', 'Industry', 'Service', 'Handwashing Facilities',\n",
    "       'Extreme Poverty', 'Median Age', 'Life expectancy',\n",
    "       'Human development index', 'Oceania', 'Northern Africa', 'Baltics', \n",
    "        'Northern America', 'Asia', 'Sub-Saharan Africa', 'C.W. of Ind. States', \n",
    "        'Latin Amer. & Carrib', 'Western Europe', 'Eastern Europe', 'Near East']\n",
    "\n",
    "df_test = df_test.reindex(columns=selected_features)\n",
    "df_full = df_full.reindex(columns=selected_features)\n",
    "# X_train = process_features(sel_features(df, selected_features))\n",
    "# X_val = process_features(sel_features(df_val, selected_features))\n",
    "X_test = process_features(sel_features(df_test, selected_features))\n",
    "X_full = process_features(sel_features(df_full, selected_features))"
   ]
  },
  {
   "cell_type": "code",
   "execution_count": 12,
   "id": "02f2c368",
   "metadata": {
    "execution": {
     "iopub.execute_input": "2021-12-08T17:04:55.283641Z",
     "iopub.status.busy": "2021-12-08T17:04:55.280829Z",
     "iopub.status.idle": "2021-12-08T17:04:55.287457Z",
     "shell.execute_reply": "2021-12-08T17:04:55.287965Z",
     "shell.execute_reply.started": "2021-12-08T16:21:25.443367Z"
    },
    "papermill": {
     "duration": 0.032995,
     "end_time": "2021-12-08T17:04:55.288131",
     "exception": false,
     "start_time": "2021-12-08T17:04:55.255136",
     "status": "completed"
    },
    "tags": []
   },
   "outputs": [
    {
     "name": "stdout",
     "output_type": "stream",
     "text": [
      "122 122\n",
      "(122, 33) (61, 33)\n",
      "[ True  True  True  True  True  True  True  True  True  True  True  True\n",
      "  True  True  True  True  True  True  True  True  True  True  True  True\n",
      "  True  True  True  True  True  True  True  True  True]\n"
     ]
    }
   ],
   "source": [
    "print(len(X_full), len(y_full))\n",
    "print (X_full.shape, X_test.shape)\n",
    "print (df_full.columns == df_test.columns)"
   ]
  },
  {
   "cell_type": "code",
   "execution_count": 13,
   "id": "feae9143",
   "metadata": {
    "execution": {
     "iopub.execute_input": "2021-12-08T17:04:55.335873Z",
     "iopub.status.busy": "2021-12-08T17:04:55.334930Z",
     "iopub.status.idle": "2021-12-08T17:04:57.881836Z",
     "shell.execute_reply": "2021-12-08T17:04:57.881206Z",
     "shell.execute_reply.started": "2021-12-08T16:21:25.456326Z"
    },
    "papermill": {
     "duration": 2.57205,
     "end_time": "2021-12-08T17:04:57.881991",
     "exception": false,
     "start_time": "2021-12-08T17:04:55.309941",
     "status": "completed"
    },
    "tags": []
   },
   "outputs": [
    {
     "data": {
      "text/plain": [
       "XGBRegressor(base_score=0.5, booster='gbtree', colsample_bylevel=1,\n",
       "             colsample_bynode=1, colsample_bytree=1, enable_categorical=False,\n",
       "             gamma=0, gpu_id=-1, importance_type=None,\n",
       "             interaction_constraints='', learning_rate=0.300000012,\n",
       "             max_delta_step=0, max_depth=6, min_child_weight=1, missing=nan,\n",
       "             monotone_constraints='()', n_estimators=100, n_jobs=4,\n",
       "             num_parallel_tree=1, predictor='auto', random_state=0, reg_alpha=0,\n",
       "             reg_lambda=1, scale_pos_weight=1, subsample=1, tree_method='exact',\n",
       "             validate_parameters=1, verbosity=None)"
      ]
     },
     "execution_count": 13,
     "metadata": {},
     "output_type": "execute_result"
    }
   ],
   "source": [
    "# params={ 'objective':'reg:squarederror',\n",
    "#          'max_depth': 1, \n",
    "#          'colsample_bylevel':0.5,\n",
    "#          'learning_rate':0.01,\n",
    "#          'random_state':20}\n",
    "# xg_reg = XGBRegressor(params=params)\n",
    "\n",
    "xg_reg = XGBRegressor(\n",
    "    n_estimators = 100,\n",
    "    tree_method = \"exact\",\n",
    "    objective='reg:squarederror')\n",
    "xg_scores = cross_val_score(xg_reg, X_full, y_full, scoring='neg_mean_squared_error')\n",
    "# print (xg_scores, xg_scores.mean())\n",
    "xg_reg.fit(X_full, y_full)\n",
    "# evaluate(xg_reg, y_val)"
   ]
  },
  {
   "cell_type": "code",
   "execution_count": 14,
   "id": "c1f89c72",
   "metadata": {
    "execution": {
     "iopub.execute_input": "2021-12-08T17:04:57.930973Z",
     "iopub.status.busy": "2021-12-08T17:04:57.929995Z",
     "iopub.status.idle": "2021-12-08T17:04:57.935039Z",
     "shell.execute_reply": "2021-12-08T17:04:57.935625Z",
     "shell.execute_reply.started": "2021-12-08T16:21:28.052631Z"
    },
    "papermill": {
     "duration": 0.031701,
     "end_time": "2021-12-08T17:04:57.935799",
     "exception": false,
     "start_time": "2021-12-08T17:04:57.904098",
     "status": "completed"
    },
    "tags": []
   },
   "outputs": [
    {
     "name": "stdout",
     "output_type": "stream",
     "text": [
      "[-1.43829036 -1.9683845  -1.35448265 -4.80160332 -1.931687  ]\n"
     ]
    }
   ],
   "source": [
    "print (xg_scores)"
   ]
  },
  {
   "cell_type": "code",
   "execution_count": 15,
   "id": "b8472bc4",
   "metadata": {
    "execution": {
     "iopub.execute_input": "2021-12-08T17:04:57.984480Z",
     "iopub.status.busy": "2021-12-08T17:04:57.983824Z",
     "iopub.status.idle": "2021-12-08T17:04:58.006124Z",
     "shell.execute_reply": "2021-12-08T17:04:58.006719Z",
     "shell.execute_reply.started": "2021-12-08T16:21:28.059179Z"
    },
    "papermill": {
     "duration": 0.048654,
     "end_time": "2021-12-08T17:04:58.006954",
     "exception": false,
     "start_time": "2021-12-08T17:04:57.958300",
     "status": "completed"
    },
    "tags": []
   },
   "outputs": [
    {
     "name": "stdout",
     "output_type": "stream",
     "text": [
      "[13.96524   12.112449   8.492571   9.418019   8.737672   9.919426\n",
      " 16.65278   13.31281   12.704893  13.536014  12.539293  14.489888\n",
      " 13.432001  10.279228  14.07751   10.417597  10.333507   9.926728\n",
      " 11.928889  10.047097  13.630507  13.26088   13.663947  12.232434\n",
      " 10.980526   9.820848   6.908434  10.494905  12.365904   9.871782\n",
      "  5.391561  15.581081   9.661317  11.299507  10.862571  15.356327\n",
      " 13.283354  13.3406925 10.3086605  7.206792  13.836149  10.961629\n",
      " 13.468663  15.450327  11.695498  12.205346  16.868208  12.580751\n",
      " 15.380928   7.3053794 10.90426   11.379649  12.177704  14.612432\n",
      " 13.66521   13.708232  10.706292   9.319814  12.457947   7.945278\n",
      " 11.8600235]\n"
     ]
    }
   ],
   "source": [
    "test_pred = xg_reg.predict(X_test)\n",
    "print (test_pred)"
   ]
  },
  {
   "cell_type": "code",
   "execution_count": 16,
   "id": "82dcb989",
   "metadata": {
    "execution": {
     "iopub.execute_input": "2021-12-08T17:04:58.059717Z",
     "iopub.status.busy": "2021-12-08T17:04:58.059081Z",
     "iopub.status.idle": "2021-12-08T17:04:58.063881Z",
     "shell.execute_reply": "2021-12-08T17:04:58.064392Z",
     "shell.execute_reply.started": "2021-12-08T16:21:28.081738Z"
    },
    "papermill": {
     "duration": 0.033598,
     "end_time": "2021-12-08T17:04:58.064574",
     "exception": false,
     "start_time": "2021-12-08T17:04:58.030976",
     "status": "completed"
    },
    "tags": []
   },
   "outputs": [],
   "source": [
    "pd.DataFrame(test_pred).to_csv(\"xgb.csv\", header=[\"cases\"], index_label=\"id\")"
   ]
  },
  {
   "cell_type": "code",
   "execution_count": 17,
   "id": "06f2547d",
   "metadata": {
    "execution": {
     "iopub.execute_input": "2021-12-08T17:04:58.114492Z",
     "iopub.status.busy": "2021-12-08T17:04:58.113515Z",
     "iopub.status.idle": "2021-12-08T17:04:58.119469Z",
     "shell.execute_reply": "2021-12-08T17:04:58.118895Z",
     "shell.execute_reply.started": "2021-12-08T16:28:09.468133Z"
    },
    "papermill": {
     "duration": 0.031827,
     "end_time": "2021-12-08T17:04:58.119612",
     "exception": false,
     "start_time": "2021-12-08T17:04:58.087785",
     "status": "completed"
    },
    "tags": []
   },
   "outputs": [],
   "source": [
    "X_full_cop = X_full\n",
    "from sklearn.preprocessing import MinMaxScaler\n",
    "from sklearn.preprocessing import StandardScaler\n",
    "scaler = MinMaxScaler()\n",
    "scaler.fit(X_full)\n",
    "\n",
    "X_transformed = scaler.transform(X_full)\n"
   ]
  },
  {
   "cell_type": "code",
   "execution_count": 18,
   "id": "cfd26501",
   "metadata": {
    "execution": {
     "iopub.execute_input": "2021-12-08T17:04:58.171555Z",
     "iopub.status.busy": "2021-12-08T17:04:58.170910Z",
     "iopub.status.idle": "2021-12-08T17:04:59.656817Z",
     "shell.execute_reply": "2021-12-08T17:04:59.657403Z",
     "shell.execute_reply.started": "2021-12-08T16:21:28.10158Z"
    },
    "papermill": {
     "duration": 1.515085,
     "end_time": "2021-12-08T17:04:59.657578",
     "exception": false,
     "start_time": "2021-12-08T17:04:58.142493",
     "status": "completed"
    },
    "tags": []
   },
   "outputs": [
    {
     "name": "stdout",
     "output_type": "stream",
     "text": [
      "[-1.43825293 -1.96868229 -1.35893929 -4.80167723 -1.93188918]\n"
     ]
    }
   ],
   "source": [
    "xg_reg2 = XGBRegressor(\n",
    "    n_estimators = 50,\n",
    "    tree_method = \"exact\",\n",
    "    objective='reg:squarederror')\n",
    "xg_scores2 = cross_val_score(xg_reg2, X_transformed, y_full, scoring='neg_mean_squared_error')\n",
    "xg_reg2.fit(X_transformed, y_full)\n",
    "print (xg_scores2)"
   ]
  },
  {
   "cell_type": "code",
   "execution_count": 19,
   "id": "14917ed3",
   "metadata": {
    "execution": {
     "iopub.execute_input": "2021-12-08T17:04:59.707683Z",
     "iopub.status.busy": "2021-12-08T17:04:59.706706Z",
     "iopub.status.idle": "2021-12-08T17:04:59.722144Z",
     "shell.execute_reply": "2021-12-08T17:04:59.722742Z",
     "shell.execute_reply.started": "2021-12-08T16:21:29.610598Z"
    },
    "papermill": {
     "duration": 0.042264,
     "end_time": "2021-12-08T17:04:59.722954",
     "exception": false,
     "start_time": "2021-12-08T17:04:59.680690",
     "status": "completed"
    },
    "tags": []
   },
   "outputs": [
    {
     "name": "stdout",
     "output_type": "stream",
     "text": [
      "[13.965429  12.110649   8.492616   9.418686   8.737853   9.919607\n",
      " 16.652258  13.312608  12.70498   13.535467  12.53944   14.489878\n",
      " 13.432911  10.2788    14.076904  10.417877  10.333762   9.926785\n",
      " 11.928568  10.058866  13.630205  13.260381  13.664455  12.232445\n",
      " 10.980693   9.8218     6.908755  10.494856  12.366754   9.871595\n",
      "  5.392031  15.580867   9.661303  11.299245  10.863695  15.355351\n",
      " 13.2835865 13.339851  10.308841   7.2062907 13.83803   10.962174\n",
      " 13.468601  15.450024  11.695903  12.20437   16.868322  12.580025\n",
      " 15.379315   7.3053465 10.904363  11.380254  12.177023  14.612744\n",
      " 13.625031  13.709637  10.706176   9.319359  12.456134   7.945181\n",
      " 11.860048 ]\n"
     ]
    }
   ],
   "source": [
    "X_test_trans = scaler.transform(X_test)\n",
    "test_pred2 = xg_reg2.predict(X_test_trans)\n",
    "print (test_pred2)"
   ]
  },
  {
   "cell_type": "code",
   "execution_count": 20,
   "id": "de539187",
   "metadata": {
    "execution": {
     "iopub.execute_input": "2021-12-08T17:04:59.778201Z",
     "iopub.status.busy": "2021-12-08T17:04:59.777411Z",
     "iopub.status.idle": "2021-12-08T17:04:59.780130Z",
     "shell.execute_reply": "2021-12-08T17:04:59.779598Z",
     "shell.execute_reply.started": "2021-12-08T16:21:29.624239Z"
    },
    "papermill": {
     "duration": 0.03247,
     "end_time": "2021-12-08T17:04:59.780274",
     "exception": false,
     "start_time": "2021-12-08T17:04:59.747804",
     "status": "completed"
    },
    "tags": []
   },
   "outputs": [],
   "source": [
    "pd.DataFrame(test_pred2).to_csv(\"xgb_min_max.csv\", header=[\"cases\"], index_label=\"id\")"
   ]
  },
  {
   "cell_type": "code",
   "execution_count": 21,
   "id": "66485159",
   "metadata": {
    "execution": {
     "iopub.execute_input": "2021-12-08T17:04:59.830773Z",
     "iopub.status.busy": "2021-12-08T17:04:59.830138Z",
     "iopub.status.idle": "2021-12-08T17:05:00.208783Z",
     "shell.execute_reply": "2021-12-08T17:05:00.209372Z",
     "shell.execute_reply.started": "2021-12-08T16:51:44.80785Z"
    },
    "papermill": {
     "duration": 0.405431,
     "end_time": "2021-12-08T17:05:00.209578",
     "exception": false,
     "start_time": "2021-12-08T17:04:59.804147",
     "status": "completed"
    },
    "tags": []
   },
   "outputs": [
    {
     "name": "stdout",
     "output_type": "stream",
     "text": [
      "[-2.1578331  -1.76797652 -1.20831347 -2.88433456 -1.29678214]\n",
      "-2.8843345642089844\n",
      "-1.8630479574203491\n"
     ]
    }
   ],
   "source": [
    "xg_reg3 = XGBRegressor(\n",
    "    n_estimators = 10,\n",
    "    tree_method = \"exact\",\n",
    "    objective='reg:squarederror',\n",
    "    reg_alpha=0,\n",
    "    reg_lambda=0.1,\n",
    "    learning_rate = 0.29,\n",
    "    )\n",
    "xg_scores3 = cross_val_score(xg_reg3, X_transformed, y_full, scoring='neg_mean_squared_error')\n",
    "xg_reg3.fit(X_transformed, y_full)\n",
    "print (xg_scores3)\n",
    "print (min(xg_scores3))\n",
    "print (xg_scores3.mean())"
   ]
  },
  {
   "cell_type": "code",
   "execution_count": 22,
   "id": "27adf434",
   "metadata": {
    "execution": {
     "iopub.execute_input": "2021-12-08T17:05:00.263010Z",
     "iopub.status.busy": "2021-12-08T17:05:00.260209Z",
     "iopub.status.idle": "2021-12-08T17:05:00.273193Z",
     "shell.execute_reply": "2021-12-08T17:05:00.273960Z",
     "shell.execute_reply.started": "2021-12-08T16:51:47.763551Z"
    },
    "papermill": {
     "duration": 0.040466,
     "end_time": "2021-12-08T17:05:00.274212",
     "exception": false,
     "start_time": "2021-12-08T17:05:00.233746",
     "status": "completed"
    },
    "tags": []
   },
   "outputs": [
    {
     "name": "stdout",
     "output_type": "stream",
     "text": [
      "[11.596227  11.862926   8.9867325  9.336996   9.054243   9.133029\n",
      " 16.118488  12.109767  11.696095  12.046785  12.341949  14.52525\n",
      " 12.999573   9.734283  13.316322  10.360231   9.312405  10.522708\n",
      " 10.49146    9.29983   12.300067  12.271862  13.157458  10.926264\n",
      " 11.807279   9.665037   6.77256    9.391162  12.090258   8.540638\n",
      "  8.307623  15.383642   9.531819  11.057527  10.269643  15.410346\n",
      " 12.39474   11.825399   9.872814   3.1634834 13.266973  10.514973\n",
      " 13.390746  14.867813  11.277546  12.0150385 15.9481325 12.602493\n",
      " 15.042811   3.3480577 11.75607   12.047779  11.880384  13.625149\n",
      " 12.6772585 13.331204  10.656838   9.661016  12.351404   7.9523635\n",
      " 11.764077 ]\n"
     ]
    }
   ],
   "source": [
    "X_test_trans = scaler.transform(X_test)\n",
    "test_pred3 = xg_reg3.predict(X_test_trans)\n",
    "print (test_pred3)"
   ]
  },
  {
   "cell_type": "code",
   "execution_count": 23,
   "id": "96db9158",
   "metadata": {
    "execution": {
     "iopub.execute_input": "2021-12-08T17:05:00.331928Z",
     "iopub.status.busy": "2021-12-08T17:05:00.331074Z",
     "iopub.status.idle": "2021-12-08T17:05:00.333966Z",
     "shell.execute_reply": "2021-12-08T17:05:00.334553Z",
     "shell.execute_reply.started": "2021-12-08T16:54:05.931579Z"
    },
    "papermill": {
     "duration": 0.033453,
     "end_time": "2021-12-08T17:05:00.334715",
     "exception": false,
     "start_time": "2021-12-08T17:05:00.301262",
     "status": "completed"
    },
    "tags": []
   },
   "outputs": [],
   "source": [
    "pd.DataFrame(test_pred3).to_csv(\"xgb_min_max_final.csv\", header=[\"cases\"], index_label=\"id\")"
   ]
  }
 ],
 "metadata": {
  "kernelspec": {
   "display_name": "Python 3",
   "language": "python",
   "name": "python3"
  },
  "language_info": {
   "codemirror_mode": {
    "name": "ipython",
    "version": 3
   },
   "file_extension": ".py",
   "mimetype": "text/x-python",
   "name": "python",
   "nbconvert_exporter": "python",
   "pygments_lexer": "ipython3",
   "version": "3.7.10"
  },
  "papermill": {
   "default_parameters": {},
   "duration": 16.709105,
   "end_time": "2021-12-08T17:05:01.068625",
   "environment_variables": {},
   "exception": null,
   "input_path": "__notebook__.ipynb",
   "output_path": "__notebook__.ipynb",
   "parameters": {},
   "start_time": "2021-12-08T17:04:44.359520",
   "version": "2.3.3"
  }
 },
 "nbformat": 4,
 "nbformat_minor": 5
}
